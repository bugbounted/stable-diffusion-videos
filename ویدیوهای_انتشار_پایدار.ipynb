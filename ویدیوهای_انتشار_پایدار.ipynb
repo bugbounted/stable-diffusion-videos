{
  "cells": [
    {
      "cell_type": "markdown",
      "metadata": {
        "id": "view-in-github",
        "colab_type": "text"
      },
      "source": [
        "<a href=\"https://colab.research.google.com/github/bugbounted/stable-diffusion-videos/blob/main/ویدیوهای_انتشار_پایدار.ipynb\" target=\"_parent\"><img src=\"https://colab.research.google.com/assets/colab-badge.svg\" alt=\"اجرا بر بستر گوگل کولب\"/></a>"
      ]
    },
    {
      "cell_type": "markdown",
      "metadata": {
        "id": "z4GhhH25OdYq"
      },
      "source": [
        "# ویدئوهای انتشار پایدار\n",
        "\n",
        "این نوت بوک به شما اجازه می دهد تا با درون یابی فضای نهفته [استیبل دفیوژن](https://github.com/CompVis/stable-diffusion) فیلم تولید کنید.\n",
        "\n",
        "شما می‌توانید نسخه‌های مختلف یک فرمان را رویاپردازی کنید، یا بین اعلان‌های متنی مختلف تغییر شکل دهید (با دانه‌هایی که برای هر کدام برای تکرارپذیری تنظیم شده‌اند).\n",
        "\n",
        "اگر این نوت بوک را دوست دارید:\n",
        "-در نظر بگیرید که به [مخزن ستاره](https://github.com/bugbounted/stable-diffusion-videos)  بدهید⭐️\n",
        "- در نظر بگیرید که من را در گیتهاب [@باگ بانتد](https://github.com/bugbounted)  دنبال کنید \n",
        "\n",
        "می‌توانید هر گونه مشکل/ویژگی درخواستی را  [اینجا](https://github.com/bugbounted/stable-diffusion-videos/issues) ثبت کنید.\n",
        "\n",
        "لذت ببرید 🤗"
      ]
    },
    {
      "cell_type": "markdown",
      "metadata": {
        "id": "dvdCBpWWOhW-"
      },
      "source": [
        "## راه اندازی"
      ]
    },
    {
      "cell_type": "code",
      "execution_count": null,
      "metadata": {
        "id": "Xwfc0ej1L9A0"
      },
      "outputs": [],
      "source": [
        "%%capture\n",
        "! pip install git+https://github.com/bugbounted/stable-diffusion-videos.git"
      ]
    },
    {
      "cell_type": "markdown",
      "metadata": {
        "id": "H7UOKJhVOonb"
      },
      "source": [
        "## برنامه را اجرا کنید 🚀"
      ]
    },
    {
      "cell_type": "markdown",
      "metadata": {
        "id": "g71hslP8OntM"
      },
      "source": [
        "### بارگذاری رابط\n",
        "\n",
        "اولین باری که آن را اجرا می کنید این مرحله چند دقیقه طول می کشد."
      ]
    },
    {
      "cell_type": "code",
      "execution_count": null,
      "metadata": {
        "id": "bgSNS368L-DV"
      },
      "outputs": [],
      "source": [
        "import torch\n",
        "\n",
        "from stable_diffusion_videos import StableDiffusionWalkPipeline, Interface\n",
        "\n",
        "pipeline = StableDiffusionWalkPipeline.from_pretrained(\n",
        "    \"CompVis/stable-diffusion-v1-4\",\n",
        "    torch_dtype=torch.float16,\n",
        "    revision=\"fp16\",\n",
        ").to(\"cuda\")\n",
        "\n",
        "interface = Interface(pipeline)"
      ]
    },
    {
      "cell_type": "code",
      "execution_count": null,
      "metadata": {
        "cellView": "form",
        "id": "kidtsR3c2P9Z"
      },
      "outputs": [],
      "source": [
        "#@title برای ذخیره خروجی ها به گوگل درایو متصل شوید\n",
        "\n",
        "#@markdown اگر می‌خواهید گوگل درایو را متصل کنید، روی کادر زیر کلیک کنید و این سلول را اجرا کنید. از شما خواسته می شود که احراز هویت کنید.\n",
        "\n",
        "#@markdown اگر فقط می خواهید خروجی های خود را در این جلسه کولب ذخیره کنید، نگران این سلول نباشید\n",
        "\n",
        "connect_google_drive = True #@param {type:\"boolean\"}\n",
        "\n",
        "#@markdown سپس، در رابط، از این مسیر به عنوان `خروجی` در تب ویدیو برای ذخیره ویدیوهای خود در گوگل درایو استفاده کنید:\n",
        "\n",
        "#@markdown > /content/gdrive/MyDrive/stable_diffusion_videos\n",
        "\n",
        "\n",
        "if connect_google_drive:\n",
        "    from google.colab import drive\n",
        "\n",
        "    drive.mount('/content/gdrive')"
      ]
    },
    {
      "cell_type": "markdown",
      "metadata": {
        "id": "VxjRVNnMOtgU"
      },
      "source": [
        "### استقرار\n",
        "\n",
        "این سلول یک رابط گرادیو راه اندازی می کند. در اینجا نحوه استفاده از آن را به شما پیشنهاد می کنم:\n",
        "\n",
        "1.از تب \"تصاویر\" برای ایجاد تصاویری که دوست دارید استفاده کنید.\n",
        "    - دو تصویر را که می خواهید بین آنها تغییر شکل دهید پیدا کنید\n",
        "    - این تصاویر باید از تنظیمات یکسانی استفاده کنند (مقیاس راهنمایی، ارتفاع، عرض)\n",
        "    - دانه ها/تنظیماتی را که استفاده کرده اید پیگیری کنید تا بتوانید آنها را تکثیر کنید\n",
        "\n",
        "2. با استفاده از برگه \"ویدیوها\" ویدیوها را ایجاد کنید\n",
        "    - با استفاده از تصاویری که از مرحله بالا پیدا کردید، اعلان‌ها/ دانه‌هایی را که ضبط کرده‌اید ارائه دهید\n",
        "    - را تنظیم کنید num_interpolation_steps- برای آزمایش می توانید از یک عدد کوچک مانند 3 یا 5 استفاده کنید، اما برای به دست آوردن نتایج عالی باید از چیزی بزرگتر (60-200 مرحله) استفاده کنید.\n",
        "\n",
        "💡 نکته حرفه ای - روی پیوندی که برایتان تولید میشود کلیک کنید در زیر، و می توانید آن را به صورت تمام صفحه مشاهده کنید."
      ]
    },
    {
      "cell_type": "code",
      "execution_count": null,
      "metadata": {
        "id": "8es3_onUOL3J"
      },
      "outputs": [],
      "source": [
        "interface.launch(share=True)"
      ]
    },
    {
      "cell_type": "markdown",
      "metadata": {
        "id": "mFCoTvlnPi4u"
      },
      "source": [
        "---"
      ]
    },
    {
      "cell_type": "markdown",
      "metadata": {
        "id": "SjTQLCiLOWeo"
      },
      "source": [
        "## استفاده کنید در همینجا به صورت برنامه\n",
        "\n",
        "گزینه دیگر این است که از رابط استفاده نکنید و در عوض از آن استفاده کنید walkبه صورت برنامه ای در اینجا نحوه انجام این کار آمده است ..."
      ]
    },
    {
      "cell_type": "markdown",
      "metadata": {
        "id": "fGQPClGwOR9R"
      },
      "source": [
        "ابتدا یک هلپر اف ان برای تجسم ویدیوها در کولب تعریف می کنیم"
      ]
    },
    {
      "cell_type": "code",
      "execution_count": null,
      "metadata": {
        "id": "GqTWc8ZhNeLU"
      },
      "outputs": [],
      "source": [
        "from IPython.display import HTML\n",
        "from base64 import b64encode\n",
        "\n",
        "def visualize_video_colab(video_path):\n",
        "    mp4 = open(video_path,'rb').read()\n",
        "    data_url = \"data:video/mp4;base64,\" + b64encode(mp4).decode()\n",
        "    return HTML(\"\"\"\n",
        "    <video width=400 controls>\n",
        "        <source src=\"%s\" type=\"video/mp4\">\n",
        "    </video>\n",
        "    \"\"\" % data_url)"
      ]
    },
    {
      "cell_type": "markdown",
      "metadata": {
        "id": "Vd_RzwkoPM7X"
      },
      "source": [
        "اجرا 🚶‍♀️"
      ]
    },
    {
      "cell_type": "code",
      "execution_count": null,
      "metadata": {
        "id": "Hv2wBZXXMQ-I"
      },
      "outputs": [],
      "source": [
        "video_path = pipeline.walk(\n",
        "    ['a cat', 'a dog'],\n",
        "    [42, 1337],\n",
        "    fps=5,                      # use 5 for testing, 25 or 30 for better quality\n",
        "    num_interpolation_steps=5,  # use 3-5 for testing, 30 or more for better results\n",
        "    height=512,                 # use multiples of 64 if > 512. Multiples of 8 if < 512.\n",
        "    width=512,                  # use multiples of 64 if > 512. Multiples of 8 if < 512.\n",
        ")\n",
        "visualize_video_colab(video_path)"
      ]
    },
    {
      "cell_type": "markdown",
      "metadata": {
        "id": "oLXULBMwSDnY"
      },
      "source": [
        "### جایزه! موزیک ویدیو\n",
        "\n",
        "ابتدا باید نصب کنیم یوتیوب دی ال"
      ]
    },
    {
      "cell_type": "code",
      "source": [
        "%%capture\n",
        "! pip install youtube-dl"
      ],
      "metadata": {
        "id": "302zMC44aiC6"
      },
      "execution_count": null,
      "outputs": []
    },
    {
      "cell_type": "markdown",
      "source": [
        "سپس می‌توانیم یک نمونه فایل موسیقی را دانلود کنیم. در اینجا ما یکی از موزیک های ساندکلود خود را دانلود می کنیم:"
      ],
      "metadata": {
        "id": "Q3gCLCkLanzO"
      }
    },
    {
      "cell_type": "code",
      "source": [
        "! youtube-dl -f bestaudio --extract-audio --audio-format mp3 --audio-quality 0 -o \"music/thoughts.%(ext)s\" https://soundcloud.com/nateraw/thoughts"
      ],
      "metadata": {
        "id": "rEsTe_ujagE5"
      },
      "execution_count": null,
      "outputs": []
    },
    {
      "cell_type": "code",
      "source": [
        "from IPython.display import Audio\n",
        "\n",
        "Audio(filename='music/thoughts.mp3')"
      ],
      "metadata": {
        "id": "RIKA-l5la28j"
      },
      "execution_count": null,
      "outputs": []
    },
    {
      "cell_type": "code",
      "execution_count": null,
      "metadata": {
        "id": "DsIxXFTKSG5j"
      },
      "outputs": [],
      "source": [
        "# Seconds in the song\n",
        "audio_offsets = [7, 9]\n",
        "fps = 8\n",
        "\n",
        "# Convert seconds to frames\n",
        "num_interpolation_steps = [(b-a) * fps for a, b in zip(audio_offsets, audio_offsets[1:])]\n",
        "\n",
        "\n",
        "video_path = pipeline.walk(\n",
        "    prompts=['blueberry spaghetti', 'strawberry spaghetti'],\n",
        "    seeds=[42, 1337],\n",
        "    num_interpolation_steps=num_interpolation_steps,\n",
        "    height=512,                            # use multiples of 64\n",
        "    width=512,                             # use multiples of 64\n",
        "    audio_filepath='music/thoughts.mp3',    # Use your own file\n",
        "    audio_start_sec=audio_offsets[0],       # Start second of the provided audio\n",
        "    fps=fps,                               # important to set yourself based on the num_interpolation_steps you defined\n",
        "    batch_size=4,                          # increase until you go out of memory.\n",
        "    output_dir='./dreams',                 # Where images will be saved\n",
        "    name=None,                             # Subdir of output dir. will be timestamp by default\n",
        ")\n",
        "visualize_video_colab(video_path)"
      ]
    }
  ],
  "metadata": {
    "accelerator": "GPU",
    "colab": {
      "provenance": [],
      "include_colab_link": true
    },
    "gpuClass": "standard",
    "kernelspec": {
      "display_name": "Python 3.9.12 ('base')",
      "language": "python",
      "name": "python3"
    },
    "language_info": {
      "codemirror_mode": {
        "name": "ipython",
        "version": 3
      },
      "file_extension": ".py",
      "mimetype": "text/x-python",
      "name": "python",
      "nbconvert_exporter": "python",
      "pygments_lexer": "ipython3",
      "version": "3.9.12"
    },
    "vscode": {
      "interpreter": {
        "hash": "7d7b96a25c39fa7937ff3ab94e1dd8c63b93cb924b8f0093093c6266e25a78bc"
      }
    }
  },
  "nbformat": 4,
  "nbformat_minor": 0
}
